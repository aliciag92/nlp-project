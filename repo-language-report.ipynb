{
 "cells": [
  {
   "cell_type": "markdown",
   "metadata": {},
   "source": [
    "# Project Description and Goals\n",
    "\n",
    "Natural Language Processing (NLP) uses programming & machine learning techniques to help understand and make use of large amounts of text data.\n",
    "\n",
    "\n",
    "For this project, I will be scraping data from GitHub repository README files, that focus on the specific domain of social media, in order to build a model that can predict what programming language a repository is, given the text of the README file.\n",
    "\n",
    "### Objectives for this project include:\n",
    "- Building a dataset based on a list of GitHub repositories to scrape, and writing the python code necessary to extract the text of the README file for each page, and the primary language of the repository.\n",
    "- Documenting process and analysis throughout the data science pipeline.\n",
    "- Constructing a classification model that can predict what programming language a repository is in, given the text of the README file.\n",
    "- Deliverables:\n",
    "    - A well-documented jupyter notebook that contains my analysis.\n",
    "    - One or two content slides suitable for a general audience that summarize findings with a well-labeled visualization included in slides.\n",
    "    \n",
    "### Pipeline Process:\n",
    "1. Acquire\n",
    "2. Prepare\n",
    "3. Explore\n",
    "4. Model/Evaluate\n",
    "5. Deliver\n",
    "\n",
    "### Initial hypotheses\n",
    "- What are the most frequently occuring words in READMEs?\n",
    "- Are there any words that uniquely identify a programming language?\n",
    "- What are the top word combinations (bigrams and trigrams)?"
   ]
  },
  {
   "cell_type": "markdown",
   "metadata": {},
   "source": [
    "*** \n",
    "### Project Imports"
   ]
  },
  {
   "cell_type": "code",
   "execution_count": 1,
   "metadata": {},
   "outputs": [],
   "source": [
    "import pandas as pd\n",
    "\n",
    "#acquire and prep\n",
    "from env import github_token, github_username\n",
    "import acquire\n",
    "import prepare\n",
    "\n",
    "import os\n",
    "import json\n",
    "from typing import Dict, List, Optional, Union, cast\n",
    "import requests\n",
    "\n",
    "import re\n",
    "import unicodedata\n",
    "import nltk\n",
    "from nltk.tokenize.toktok import ToktokTokenizer\n",
    "from nltk.corpus import stopwords\n",
    "\n",
    "#visualize\n",
    "from wordcloud import WordCloud\n",
    "%matplotlib inline\n",
    "import matplotlib.pyplot as plt\n",
    "import seaborn as sns\n",
    "\n",
    "#ignore warnings (turn off pink warning boxes)\n",
    "import warnings\n",
    "warnings.filterwarnings(\"ignore\")\n",
    "\n",
    "#tf-idf\n",
    "from sklearn.feature_extraction.text import TfidfVectorizer\n",
    "\n",
    "#train, validate, test\n",
    "from sklearn.model_selection import train_test_split\n",
    "\n",
    "#creating / evaluating models\n",
    "# Decision Tree  \n",
    "from sklearn.tree import DecisionTreeClassifier\n",
    "from sklearn.tree import export_graphviz\n",
    "\n",
    "# Random Forest\n",
    "from sklearn.ensemble import RandomForestClassifier\n",
    "\n",
    "# K-Nearest Neighbor(KNN)  \n",
    "from sklearn.neighbors import KNeighborsClassifier\n",
    "\n",
    "# Logistic Regression\n",
    "from sklearn.linear_model import LogisticRegression\n",
    "\n",
    "from sklearn.metrics import classification_report, accuracy_score"
   ]
  },
  {
   "cell_type": "markdown",
   "metadata": {},
   "source": [
    "***\n",
    "# Data Acquisition"
   ]
  },
  {
   "cell_type": "code",
   "execution_count": 2,
   "metadata": {},
   "outputs": [
    {
     "data": {
      "text/html": [
       "<div>\n",
       "<style scoped>\n",
       "    .dataframe tbody tr th:only-of-type {\n",
       "        vertical-align: middle;\n",
       "    }\n",
       "\n",
       "    .dataframe tbody tr th {\n",
       "        vertical-align: top;\n",
       "    }\n",
       "\n",
       "    .dataframe thead th {\n",
       "        text-align: right;\n",
       "    }\n",
       "</style>\n",
       "<table border=\"1\" class=\"dataframe\">\n",
       "  <thead>\n",
       "    <tr style=\"text-align: right;\">\n",
       "      <th></th>\n",
       "      <th>repo</th>\n",
       "      <th>language</th>\n",
       "      <th>readme_contents</th>\n",
       "    </tr>\n",
       "  </thead>\n",
       "  <tbody>\n",
       "    <tr>\n",
       "      <th>0</th>\n",
       "      <td>sherlock-project/sherlock</td>\n",
       "      <td>Python</td>\n",
       "      <td>&lt;p align=center&gt;\\n\\n  &lt;img src=\"https://user-i...</td>\n",
       "    </tr>\n",
       "    <tr>\n",
       "      <th>1</th>\n",
       "      <td>Greenwolf/social_mapper</td>\n",
       "      <td>Python</td>\n",
       "      <td># Social Mapper\\n![alt text](https://img.shiel...</td>\n",
       "    </tr>\n",
       "    <tr>\n",
       "      <th>2</th>\n",
       "      <td>bonzanini/Book-SocialMediaMiningPython</td>\n",
       "      <td>Python</td>\n",
       "      <td>Mastering Social Media Mining with Python\\n===...</td>\n",
       "    </tr>\n",
       "    <tr>\n",
       "      <th>3</th>\n",
       "      <td>qeeqbox/social-analyzer</td>\n",
       "      <td>JavaScript</td>\n",
       "      <td>&lt;p align=\"center\"&gt; &lt;img src=\"https://raw.githu...</td>\n",
       "    </tr>\n",
       "    <tr>\n",
       "      <th>4</th>\n",
       "      <td>anfederico/stocktalk</td>\n",
       "      <td>Python</td>\n",
       "      <td>&lt;p align=\"center\"&gt;&lt;img src=\"https://raw.github...</td>\n",
       "    </tr>\n",
       "  </tbody>\n",
       "</table>\n",
       "</div>"
      ],
      "text/plain": [
       "                                     repo    language  \\\n",
       "0               sherlock-project/sherlock      Python   \n",
       "1                 Greenwolf/social_mapper      Python   \n",
       "2  bonzanini/Book-SocialMediaMiningPython      Python   \n",
       "3                 qeeqbox/social-analyzer  JavaScript   \n",
       "4                    anfederico/stocktalk      Python   \n",
       "\n",
       "                                     readme_contents  \n",
       "0  <p align=center>\\n\\n  <img src=\"https://user-i...  \n",
       "1  # Social Mapper\\n![alt text](https://img.shiel...  \n",
       "2  Mastering Social Media Mining with Python\\n===...  \n",
       "3  <p align=\"center\"> <img src=\"https://raw.githu...  \n",
       "4  <p align=\"center\"><img src=\"https://raw.github...  "
      ]
     },
     "execution_count": 2,
     "metadata": {},
     "output_type": "execute_result"
    }
   ],
   "source": [
    "#acquire data from acquire.py\n",
    "df = pd.read_json('data.json')\n",
    "df.head()"
   ]
  },
  {
   "cell_type": "code",
   "execution_count": 3,
   "metadata": {},
   "outputs": [
    {
     "data": {
      "text/plain": [
       "(150, 3)"
      ]
     },
     "execution_count": 3,
     "metadata": {},
     "output_type": "execute_result"
    }
   ],
   "source": [
    "#rows and columns\n",
    "df.shape"
   ]
  },
  {
   "cell_type": "code",
   "execution_count": 4,
   "metadata": {},
   "outputs": [
    {
     "name": "stdout",
     "output_type": "stream",
     "text": [
      "<class 'pandas.core.frame.DataFrame'>\n",
      "RangeIndex: 150 entries, 0 to 149\n",
      "Data columns (total 3 columns):\n",
      " #   Column           Non-Null Count  Dtype \n",
      "---  ------           --------------  ----- \n",
      " 0   repo             150 non-null    object\n",
      " 1   language         147 non-null    object\n",
      " 2   readme_contents  150 non-null    object\n",
      "dtypes: object(3)\n",
      "memory usage: 3.6+ KB\n"
     ]
    }
   ],
   "source": [
    "#list of column names and data types with more information\n",
    "df.info()"
   ]
  },
  {
   "cell_type": "code",
   "execution_count": 5,
   "metadata": {},
   "outputs": [
    {
     "data": {
      "text/plain": [
       "Python              33\n",
       "JavaScript          28\n",
       "PHP                 15\n",
       "HTML                14\n",
       "TypeScript           9\n",
       "Jupyter Notebook     8\n",
       "Dart                 7\n",
       "Java                 7\n",
       "CSS                  5\n",
       "Ruby                 4\n",
       "C#                   4\n",
       "Shell                3\n",
       "R                    2\n",
       "Objective-C          2\n",
       "Go                   1\n",
       "C++                  1\n",
       "PostScript           1\n",
       "TSQL                 1\n",
       "Scala                1\n",
       "Elixir               1\n",
       "Name: language, dtype: int64"
      ]
     },
     "execution_count": 5,
     "metadata": {},
     "output_type": "execute_result"
    }
   ],
   "source": [
    "#check value counts of languages\n",
    "df.language.value_counts()"
   ]
  },
  {
   "cell_type": "code",
   "execution_count": 6,
   "metadata": {},
   "outputs": [
    {
     "data": {
      "text/plain": [
       "repo               0\n",
       "language           3\n",
       "readme_contents    0\n",
       "dtype: int64"
      ]
     },
     "execution_count": 6,
     "metadata": {},
     "output_type": "execute_result"
    }
   ],
   "source": [
    "#check nulls\n",
    "df.isnull().sum()"
   ]
  },
  {
   "cell_type": "markdown",
   "metadata": {},
   "source": [
    "#### There are 3 languages missing from repos that need to be dropped and text from readme_contents needs to be cleaned, normalized, tokenized, lemmatized, have stopwords removed, etc.. Also, jupyter notebook can be turned into python programming language."
   ]
  },
  {
   "cell_type": "markdown",
   "metadata": {},
   "source": [
    "***\n",
    "# Data Preparation"
   ]
  },
  {
   "cell_type": "code",
   "execution_count": 7,
   "metadata": {},
   "outputs": [
    {
     "data": {
      "text/html": [
       "<div>\n",
       "<style scoped>\n",
       "    .dataframe tbody tr th:only-of-type {\n",
       "        vertical-align: middle;\n",
       "    }\n",
       "\n",
       "    .dataframe tbody tr th {\n",
       "        vertical-align: top;\n",
       "    }\n",
       "\n",
       "    .dataframe thead th {\n",
       "        text-align: right;\n",
       "    }\n",
       "</style>\n",
       "<table border=\"1\" class=\"dataframe\">\n",
       "  <thead>\n",
       "    <tr style=\"text-align: right;\">\n",
       "      <th></th>\n",
       "      <th>repo</th>\n",
       "      <th>clean_content</th>\n",
       "      <th>language</th>\n",
       "    </tr>\n",
       "  </thead>\n",
       "  <tbody>\n",
       "    <tr>\n",
       "      <th>0</th>\n",
       "      <td>sherlock-project/sherlock</td>\n",
       "      <td>img srchttpsuserimagesgithubusercontentcom2706...</td>\n",
       "      <td>Python</td>\n",
       "    </tr>\n",
       "    <tr>\n",
       "      <th>1</th>\n",
       "      <td>Greenwolf/social_mapper</td>\n",
       "      <td>social mapper alt texthttpsimgshieldsiobadgepy...</td>\n",
       "      <td>Python</td>\n",
       "    </tr>\n",
       "    <tr>\n",
       "      <th>2</th>\n",
       "      <td>bonzanini/Book-SocialMediaMiningPython</td>\n",
       "      <td>mastering social medium mining python code rep...</td>\n",
       "      <td>Python</td>\n",
       "    </tr>\n",
       "    <tr>\n",
       "      <th>3</th>\n",
       "      <td>qeeqbox/social-analyzer</td>\n",
       "      <td>img srchttpsrawgithubusercontentcomqeeqboxsoci...</td>\n",
       "      <td>JavaScript</td>\n",
       "    </tr>\n",
       "    <tr>\n",
       "      <th>4</th>\n",
       "      <td>anfederico/stocktalk</td>\n",
       "      <td>aligncenterimg srchttpsrawgithubusercontentcom...</td>\n",
       "      <td>Python</td>\n",
       "    </tr>\n",
       "  </tbody>\n",
       "</table>\n",
       "</div>"
      ],
      "text/plain": [
       "                                     repo  \\\n",
       "0               sherlock-project/sherlock   \n",
       "1                 Greenwolf/social_mapper   \n",
       "2  bonzanini/Book-SocialMediaMiningPython   \n",
       "3                 qeeqbox/social-analyzer   \n",
       "4                    anfederico/stocktalk   \n",
       "\n",
       "                                       clean_content    language  \n",
       "0  img srchttpsuserimagesgithubusercontentcom2706...      Python  \n",
       "1  social mapper alt texthttpsimgshieldsiobadgepy...      Python  \n",
       "2  mastering social medium mining python code rep...      Python  \n",
       "3  img srchttpsrawgithubusercontentcomqeeqboxsoci...  JavaScript  \n",
       "4  aligncenterimg srchttpsrawgithubusercontentcom...      Python  "
      ]
     },
     "execution_count": 7,
     "metadata": {},
     "output_type": "execute_result"
    }
   ],
   "source": [
    "#grab cleaned df from prepare.py\n",
    "df = prepare.clean_content(df, 'readme_contents', extra_words = ['p', 'aligncenter'], exclude_words = ['no'])\n",
    "\n",
    "#drop original readme_contents\n",
    "df = df.drop(columns = ['readme_contents'])\n",
    "\n",
    "df.head()"
   ]
  },
  {
   "cell_type": "code",
   "execution_count": 13,
   "metadata": {},
   "outputs": [
    {
     "data": {
      "text/plain": [
       "19"
      ]
     },
     "execution_count": 13,
     "metadata": {},
     "output_type": "execute_result"
    }
   ],
   "source": [
    "len(df.language.value_counts())"
   ]
  },
  {
   "cell_type": "code",
   "execution_count": 9,
   "metadata": {},
   "outputs": [
    {
     "data": {
      "text/plain": [
       "repo             0\n",
       "clean_content    0\n",
       "language         0\n",
       "dtype: int64"
      ]
     },
     "execution_count": 9,
     "metadata": {},
     "output_type": "execute_result"
    }
   ],
   "source": [
    "df.isnull().sum()"
   ]
  },
  {
   "cell_type": "code",
   "execution_count": 10,
   "metadata": {},
   "outputs": [
    {
     "data": {
      "text/plain": [
       "(147, 3)"
      ]
     },
     "execution_count": 10,
     "metadata": {},
     "output_type": "execute_result"
    }
   ],
   "source": [
    "df.shape"
   ]
  },
  {
   "cell_type": "code",
   "execution_count": 11,
   "metadata": {},
   "outputs": [
    {
     "name": "stdout",
     "output_type": "stream",
     "text": [
      "<class 'pandas.core.frame.DataFrame'>\n",
      "Int64Index: 147 entries, 0 to 149\n",
      "Data columns (total 3 columns):\n",
      " #   Column         Non-Null Count  Dtype \n",
      "---  ------         --------------  ----- \n",
      " 0   repo           147 non-null    object\n",
      " 1   clean_content  147 non-null    object\n",
      " 2   language       147 non-null    object\n",
      "dtypes: object(3)\n",
      "memory usage: 4.6+ KB\n"
     ]
    }
   ],
   "source": [
    "df.info()"
   ]
  },
  {
   "cell_type": "markdown",
   "metadata": {},
   "source": [
    "***\n",
    "# Data Exploration\n",
    "\n",
    "### Answer questions from planning stage\n",
    "- What are the most frequently occuring words in READMEs?\n",
    "- Are there any words that uniquely identify a programming language?\n",
    "- What does the distribution of IDFs look like for the most common words?\n",
    "- Does the length of the README vary by programming language?\n",
    "- Do different programming languages use a different number of unique words?\n",
    "- What are the top word combinations (bigrams and trigrams)?"
   ]
  },
  {
   "cell_type": "code",
   "execution_count": 12,
   "metadata": {},
   "outputs": [
    {
     "data": {
      "text/html": [
       "<div>\n",
       "<style scoped>\n",
       "    .dataframe tbody tr th:only-of-type {\n",
       "        vertical-align: middle;\n",
       "    }\n",
       "\n",
       "    .dataframe tbody tr th {\n",
       "        vertical-align: top;\n",
       "    }\n",
       "\n",
       "    .dataframe thead th {\n",
       "        text-align: right;\n",
       "    }\n",
       "</style>\n",
       "<table border=\"1\" class=\"dataframe\">\n",
       "  <thead>\n",
       "    <tr style=\"text-align: right;\">\n",
       "      <th></th>\n",
       "      <th>n</th>\n",
       "      <th>percent</th>\n",
       "    </tr>\n",
       "  </thead>\n",
       "  <tbody>\n",
       "    <tr>\n",
       "      <th>Python</th>\n",
       "      <td>41</td>\n",
       "      <td>0.278912</td>\n",
       "    </tr>\n",
       "    <tr>\n",
       "      <th>JavaScript</th>\n",
       "      <td>28</td>\n",
       "      <td>0.190476</td>\n",
       "    </tr>\n",
       "    <tr>\n",
       "      <th>PHP</th>\n",
       "      <td>15</td>\n",
       "      <td>0.102041</td>\n",
       "    </tr>\n",
       "    <tr>\n",
       "      <th>HTML</th>\n",
       "      <td>14</td>\n",
       "      <td>0.095238</td>\n",
       "    </tr>\n",
       "    <tr>\n",
       "      <th>TypeScript</th>\n",
       "      <td>9</td>\n",
       "      <td>0.061224</td>\n",
       "    </tr>\n",
       "    <tr>\n",
       "      <th>Dart</th>\n",
       "      <td>7</td>\n",
       "      <td>0.047619</td>\n",
       "    </tr>\n",
       "    <tr>\n",
       "      <th>Java</th>\n",
       "      <td>7</td>\n",
       "      <td>0.047619</td>\n",
       "    </tr>\n",
       "    <tr>\n",
       "      <th>CSS</th>\n",
       "      <td>5</td>\n",
       "      <td>0.034014</td>\n",
       "    </tr>\n",
       "    <tr>\n",
       "      <th>Ruby</th>\n",
       "      <td>4</td>\n",
       "      <td>0.027211</td>\n",
       "    </tr>\n",
       "    <tr>\n",
       "      <th>C#</th>\n",
       "      <td>4</td>\n",
       "      <td>0.027211</td>\n",
       "    </tr>\n",
       "    <tr>\n",
       "      <th>Shell</th>\n",
       "      <td>3</td>\n",
       "      <td>0.020408</td>\n",
       "    </tr>\n",
       "    <tr>\n",
       "      <th>R</th>\n",
       "      <td>2</td>\n",
       "      <td>0.013605</td>\n",
       "    </tr>\n",
       "    <tr>\n",
       "      <th>Objective-C</th>\n",
       "      <td>2</td>\n",
       "      <td>0.013605</td>\n",
       "    </tr>\n",
       "    <tr>\n",
       "      <th>Go</th>\n",
       "      <td>1</td>\n",
       "      <td>0.006803</td>\n",
       "    </tr>\n",
       "    <tr>\n",
       "      <th>C++</th>\n",
       "      <td>1</td>\n",
       "      <td>0.006803</td>\n",
       "    </tr>\n",
       "    <tr>\n",
       "      <th>PostScript</th>\n",
       "      <td>1</td>\n",
       "      <td>0.006803</td>\n",
       "    </tr>\n",
       "    <tr>\n",
       "      <th>TSQL</th>\n",
       "      <td>1</td>\n",
       "      <td>0.006803</td>\n",
       "    </tr>\n",
       "    <tr>\n",
       "      <th>Scala</th>\n",
       "      <td>1</td>\n",
       "      <td>0.006803</td>\n",
       "    </tr>\n",
       "    <tr>\n",
       "      <th>Elixir</th>\n",
       "      <td>1</td>\n",
       "      <td>0.006803</td>\n",
       "    </tr>\n",
       "  </tbody>\n",
       "</table>\n",
       "</div>"
      ],
      "text/plain": [
       "              n   percent\n",
       "Python       41  0.278912\n",
       "JavaScript   28  0.190476\n",
       "PHP          15  0.102041\n",
       "HTML         14  0.095238\n",
       "TypeScript    9  0.061224\n",
       "Dart          7  0.047619\n",
       "Java          7  0.047619\n",
       "CSS           5  0.034014\n",
       "Ruby          4  0.027211\n",
       "C#            4  0.027211\n",
       "Shell         3  0.020408\n",
       "R             2  0.013605\n",
       "Objective-C   2  0.013605\n",
       "Go            1  0.006803\n",
       "C++           1  0.006803\n",
       "PostScript    1  0.006803\n",
       "TSQL          1  0.006803\n",
       "Scala         1  0.006803\n",
       "Elixir        1  0.006803"
      ]
     },
     "execution_count": 12,
     "metadata": {},
     "output_type": "execute_result"
    }
   ],
   "source": [
    "#how many words appear for each language?\n",
    "languages = pd.concat([df.language.value_counts(),\n",
    "                    df.language.value_counts(normalize=True)], axis=1)\n",
    "\n",
    "languages.columns = ['n', 'percent']\n",
    "\n",
    "languages"
   ]
  },
  {
   "cell_type": "code",
   "execution_count": null,
   "metadata": {},
   "outputs": [],
   "source": []
  },
  {
   "cell_type": "code",
   "execution_count": null,
   "metadata": {},
   "outputs": [],
   "source": []
  },
  {
   "cell_type": "code",
   "execution_count": null,
   "metadata": {},
   "outputs": [],
   "source": []
  },
  {
   "cell_type": "markdown",
   "metadata": {},
   "source": [
    "***\n",
    "# Data Modeling and Evaluation"
   ]
  },
  {
   "cell_type": "code",
   "execution_count": null,
   "metadata": {},
   "outputs": [],
   "source": []
  },
  {
   "cell_type": "code",
   "execution_count": null,
   "metadata": {},
   "outputs": [],
   "source": []
  },
  {
   "cell_type": "code",
   "execution_count": null,
   "metadata": {},
   "outputs": [],
   "source": []
  },
  {
   "cell_type": "code",
   "execution_count": null,
   "metadata": {},
   "outputs": [],
   "source": []
  },
  {
   "cell_type": "markdown",
   "metadata": {},
   "source": [
    "***\n",
    "# Conclusion\n",
    "Report containing summarization of findings can be found [here](link to google slides)."
   ]
  },
  {
   "cell_type": "code",
   "execution_count": null,
   "metadata": {},
   "outputs": [],
   "source": []
  }
 ],
 "metadata": {
  "kernelspec": {
   "display_name": "Python 3",
   "language": "python",
   "name": "python3"
  },
  "language_info": {
   "codemirror_mode": {
    "name": "ipython",
    "version": 3
   },
   "file_extension": ".py",
   "mimetype": "text/x-python",
   "name": "python",
   "nbconvert_exporter": "python",
   "pygments_lexer": "ipython3",
   "version": "3.8.5"
  }
 },
 "nbformat": 4,
 "nbformat_minor": 4
}
