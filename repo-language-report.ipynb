{
 "cells": [
  {
   "cell_type": "markdown",
   "metadata": {},
   "source": [
    "# Project Description and Goals\n",
    "\n",
    "Natural Language Processing (NLP) uses programming & machine learning techniques to help understand and make use of large amounts of text data.\n",
    "\n",
    "\n",
    "For this project, I will be scraping data from GitHub repository README files, that focus on the specific domain of social media, in order to build a model that can predict what programming language a repository is, given the text of the README file.\n",
    "\n",
    "### Objectives for this project include:\n",
    "- Building a dataset based on a list of GitHub repositories to scrape, and writing the python code necessary to extract the text of the README file for each page, and the primary language of the repository.\n",
    "- Documenting process and analysis throughout the data science pipeline.\n",
    "- Constructing a classification model that can predict what programming language a repository is in, given the text of the README file.\n",
    "- Deliverables:\n",
    "    - A well-documented jupyter notebook that contains my analysis.\n",
    "    - One or two content slides suitable for a general audience that summarize findings with a well-labeled visualization included in slides.\n",
    "    \n",
    "### Pipeline Process:\n",
    "1. Acquire\n",
    "2. Prepare\n",
    "3. Explore\n",
    "4. Model/Evaluate\n",
    "5. Deliver\n",
    "\n",
    "### Initial hypotheses\n",
    "- What are the most frequently occuring words in READMEs?\n",
    "- Are there any words that uniquely identify a programming language?\n",
    "- What are the top word combinations (bigrams and trigrams)?"
   ]
  },
  {
   "cell_type": "markdown",
   "metadata": {},
   "source": [
    "*** \n",
    "### Project Imports"
   ]
  },
  {
   "cell_type": "code",
   "execution_count": 1,
   "metadata": {},
   "outputs": [],
   "source": [
    "import pandas as pd\n",
    "\n",
    "#acquire and prep\n",
    "from env import github_token, github_username\n",
    "import acquire\n",
    "import prepare\n",
    "\n",
    "import os\n",
    "import json\n",
    "from typing import Dict, List, Optional, Union, cast\n",
    "import requests\n",
    "\n",
    "import re\n",
    "import unicodedata\n",
    "import nltk\n",
    "from nltk.tokenize.toktok import ToktokTokenizer\n",
    "from nltk.corpus import stopwords\n",
    "\n",
    "#visualize\n",
    "from wordcloud import WordCloud\n",
    "%matplotlib inline\n",
    "import matplotlib.pyplot as plt\n",
    "import seaborn as sns\n",
    "\n",
    "#ignore warnings (turn off pink warning boxes)\n",
    "import warnings\n",
    "warnings.filterwarnings(\"ignore\")\n",
    "\n",
    "#tf-idf\n",
    "from sklearn.feature_extraction.text import TfidfVectorizer\n",
    "\n",
    "#train, validate, test\n",
    "from sklearn.model_selection import train_test_split\n",
    "\n",
    "#creating / evaluating models\n",
    "# Decision Tree  \n",
    "from sklearn.tree import DecisionTreeClassifier\n",
    "from sklearn.tree import export_graphviz\n",
    "\n",
    "# Random Forest\n",
    "from sklearn.ensemble import RandomForestClassifier\n",
    "\n",
    "# K-Nearest Neighbor(KNN)  \n",
    "from sklearn.neighbors import KNeighborsClassifier\n",
    "\n",
    "# Logistic Regression\n",
    "from sklearn.linear_model import LogisticRegression\n",
    "\n",
    "from sklearn.metrics import classification_report, accuracy_score"
   ]
  },
  {
   "cell_type": "markdown",
   "metadata": {},
   "source": [
    "***\n",
    "# Data Acquisition"
   ]
  },
  {
   "cell_type": "code",
   "execution_count": 2,
   "metadata": {},
   "outputs": [
    {
     "data": {
      "text/html": [
       "<div>\n",
       "<style scoped>\n",
       "    .dataframe tbody tr th:only-of-type {\n",
       "        vertical-align: middle;\n",
       "    }\n",
       "\n",
       "    .dataframe tbody tr th {\n",
       "        vertical-align: top;\n",
       "    }\n",
       "\n",
       "    .dataframe thead th {\n",
       "        text-align: right;\n",
       "    }\n",
       "</style>\n",
       "<table border=\"1\" class=\"dataframe\">\n",
       "  <thead>\n",
       "    <tr style=\"text-align: right;\">\n",
       "      <th></th>\n",
       "      <th>repo</th>\n",
       "      <th>language</th>\n",
       "      <th>readme_contents</th>\n",
       "    </tr>\n",
       "  </thead>\n",
       "  <tbody>\n",
       "    <tr>\n",
       "      <th>0</th>\n",
       "      <td>sherlock-project/sherlock</td>\n",
       "      <td>Python</td>\n",
       "      <td>&lt;p align=center&gt;\\n\\n  &lt;img src=\"https://user-i...</td>\n",
       "    </tr>\n",
       "    <tr>\n",
       "      <th>1</th>\n",
       "      <td>Greenwolf/social_mapper</td>\n",
       "      <td>Python</td>\n",
       "      <td># Social Mapper\\n![alt text](https://img.shiel...</td>\n",
       "    </tr>\n",
       "    <tr>\n",
       "      <th>2</th>\n",
       "      <td>bonzanini/Book-SocialMediaMiningPython</td>\n",
       "      <td>Python</td>\n",
       "      <td>Mastering Social Media Mining with Python\\n===...</td>\n",
       "    </tr>\n",
       "    <tr>\n",
       "      <th>3</th>\n",
       "      <td>qeeqbox/social-analyzer</td>\n",
       "      <td>JavaScript</td>\n",
       "      <td>&lt;p align=\"center\"&gt; &lt;img src=\"https://raw.githu...</td>\n",
       "    </tr>\n",
       "    <tr>\n",
       "      <th>4</th>\n",
       "      <td>anfederico/stocktalk</td>\n",
       "      <td>Python</td>\n",
       "      <td>&lt;p align=\"center\"&gt;&lt;img src=\"https://raw.github...</td>\n",
       "    </tr>\n",
       "  </tbody>\n",
       "</table>\n",
       "</div>"
      ],
      "text/plain": [
       "                                     repo    language  \\\n",
       "0               sherlock-project/sherlock      Python   \n",
       "1                 Greenwolf/social_mapper      Python   \n",
       "2  bonzanini/Book-SocialMediaMiningPython      Python   \n",
       "3                 qeeqbox/social-analyzer  JavaScript   \n",
       "4                    anfederico/stocktalk      Python   \n",
       "\n",
       "                                     readme_contents  \n",
       "0  <p align=center>\\n\\n  <img src=\"https://user-i...  \n",
       "1  # Social Mapper\\n![alt text](https://img.shiel...  \n",
       "2  Mastering Social Media Mining with Python\\n===...  \n",
       "3  <p align=\"center\"> <img src=\"https://raw.githu...  \n",
       "4  <p align=\"center\"><img src=\"https://raw.github...  "
      ]
     },
     "execution_count": 2,
     "metadata": {},
     "output_type": "execute_result"
    }
   ],
   "source": [
    "#acquire data from acquire.py\n",
    "df = pd.read_json('data.json')\n",
    "df.head()"
   ]
  },
  {
   "cell_type": "code",
   "execution_count": 3,
   "metadata": {},
   "outputs": [
    {
     "data": {
      "text/plain": [
       "(150, 3)"
      ]
     },
     "execution_count": 3,
     "metadata": {},
     "output_type": "execute_result"
    }
   ],
   "source": [
    "#rows and columns\n",
    "df.shape"
   ]
  },
  {
   "cell_type": "code",
   "execution_count": 4,
   "metadata": {},
   "outputs": [
    {
     "name": "stdout",
     "output_type": "stream",
     "text": [
      "<class 'pandas.core.frame.DataFrame'>\n",
      "RangeIndex: 150 entries, 0 to 149\n",
      "Data columns (total 3 columns):\n",
      " #   Column           Non-Null Count  Dtype \n",
      "---  ------           --------------  ----- \n",
      " 0   repo             150 non-null    object\n",
      " 1   language         147 non-null    object\n",
      " 2   readme_contents  150 non-null    object\n",
      "dtypes: object(3)\n",
      "memory usage: 3.6+ KB\n"
     ]
    }
   ],
   "source": [
    "#list of column names and data types with more information\n",
    "df.info()"
   ]
  },
  {
   "cell_type": "code",
   "execution_count": 5,
   "metadata": {},
   "outputs": [
    {
     "data": {
      "text/plain": [
       "Python              33\n",
       "JavaScript          28\n",
       "PHP                 15\n",
       "HTML                14\n",
       "TypeScript           9\n",
       "Jupyter Notebook     8\n",
       "Dart                 7\n",
       "Java                 7\n",
       "CSS                  5\n",
       "Ruby                 4\n",
       "C#                   4\n",
       "Shell                3\n",
       "Objective-C          2\n",
       "R                    2\n",
       "C++                  1\n",
       "Go                   1\n",
       "TSQL                 1\n",
       "PostScript           1\n",
       "Elixir               1\n",
       "Scala                1\n",
       "Name: language, dtype: int64"
      ]
     },
     "execution_count": 5,
     "metadata": {},
     "output_type": "execute_result"
    }
   ],
   "source": [
    "#check value counts of languages\n",
    "df.language.value_counts()"
   ]
  },
  {
   "cell_type": "code",
   "execution_count": 6,
   "metadata": {},
   "outputs": [
    {
     "data": {
      "text/plain": [
       "repo               0\n",
       "language           3\n",
       "readme_contents    0\n",
       "dtype: int64"
      ]
     },
     "execution_count": 6,
     "metadata": {},
     "output_type": "execute_result"
    }
   ],
   "source": [
    "#check nulls\n",
    "df.isnull().sum()"
   ]
  },
  {
   "cell_type": "markdown",
   "metadata": {},
   "source": [
    "### Findings\n",
    "- There are 3 languages missing from repos that need to be dropped.\n",
    "- Text from readme_contents needs to be cleaned, normalized, tokenized, lemmatized, have stopwords removed, etc. \n",
    "- Jupyter notebook can be turned into python programming language.\n",
    "- There are a couple of languages that have fewer than 5 value counts, so those will be removed as well, as it does not provide much value and it will facilitate exploration/modeling/evaluation."
   ]
  },
  {
   "cell_type": "markdown",
   "metadata": {},
   "source": [
    "***\n",
    "# Data Preparation"
   ]
  },
  {
   "cell_type": "code",
   "execution_count": 7,
   "metadata": {},
   "outputs": [
    {
     "data": {
      "text/html": [
       "<div>\n",
       "<style scoped>\n",
       "    .dataframe tbody tr th:only-of-type {\n",
       "        vertical-align: middle;\n",
       "    }\n",
       "\n",
       "    .dataframe tbody tr th {\n",
       "        vertical-align: top;\n",
       "    }\n",
       "\n",
       "    .dataframe thead th {\n",
       "        text-align: right;\n",
       "    }\n",
       "</style>\n",
       "<table border=\"1\" class=\"dataframe\">\n",
       "  <thead>\n",
       "    <tr style=\"text-align: right;\">\n",
       "      <th></th>\n",
       "      <th>repo</th>\n",
       "      <th>clean_content</th>\n",
       "      <th>language</th>\n",
       "    </tr>\n",
       "  </thead>\n",
       "  <tbody>\n",
       "    <tr>\n",
       "      <th>0</th>\n",
       "      <td>sherlock-project/sherlock</td>\n",
       "      <td>srchttpsuserimagesgithubusercontentcom27065646...</td>\n",
       "      <td>Python</td>\n",
       "    </tr>\n",
       "    <tr>\n",
       "      <th>1</th>\n",
       "      <td>Greenwolf/social_mapper</td>\n",
       "      <td>social mapper alt texthttpsimgshieldsiobadgepy...</td>\n",
       "      <td>Python</td>\n",
       "    </tr>\n",
       "    <tr>\n",
       "      <th>2</th>\n",
       "      <td>bonzanini/Book-SocialMediaMiningPython</td>\n",
       "      <td>mastering social medium mining python code rep...</td>\n",
       "      <td>Python</td>\n",
       "    </tr>\n",
       "    <tr>\n",
       "      <th>3</th>\n",
       "      <td>qeeqbox/social-analyzer</td>\n",
       "      <td>srchttpsrawgithubusercontentcomqeeqboxsocialan...</td>\n",
       "      <td>JavaScript</td>\n",
       "    </tr>\n",
       "    <tr>\n",
       "      <th>4</th>\n",
       "      <td>anfederico/stocktalk</td>\n",
       "      <td>aligncenterimg srchttpsrawgithubusercontentcom...</td>\n",
       "      <td>Python</td>\n",
       "    </tr>\n",
       "  </tbody>\n",
       "</table>\n",
       "</div>"
      ],
      "text/plain": [
       "                                     repo  \\\n",
       "0               sherlock-project/sherlock   \n",
       "1                 Greenwolf/social_mapper   \n",
       "2  bonzanini/Book-SocialMediaMiningPython   \n",
       "3                 qeeqbox/social-analyzer   \n",
       "4                    anfederico/stocktalk   \n",
       "\n",
       "                                       clean_content    language  \n",
       "0  srchttpsuserimagesgithubusercontentcom27065646...      Python  \n",
       "1  social mapper alt texthttpsimgshieldsiobadgepy...      Python  \n",
       "2  mastering social medium mining python code rep...      Python  \n",
       "3  srchttpsrawgithubusercontentcomqeeqboxsocialan...  JavaScript  \n",
       "4  aligncenterimg srchttpsrawgithubusercontentcom...      Python  "
      ]
     },
     "execution_count": 7,
     "metadata": {},
     "output_type": "execute_result"
    }
   ],
   "source": [
    "#grab cleaned df from prepare.py\n",
    "df = prepare.clean_content(df, 'readme_contents', extra_words = ['p', 'aligncenter', 'img'], exclude_words = ['no'])\n",
    "\n",
    "#drop original readme_contents\n",
    "df = df.drop(columns = ['readme_contents'])\n",
    "\n",
    "df.head()"
   ]
  },
  {
   "cell_type": "code",
   "execution_count": 8,
   "metadata": {},
   "outputs": [
    {
     "data": {
      "text/plain": [
       "8"
      ]
     },
     "execution_count": 8,
     "metadata": {},
     "output_type": "execute_result"
    }
   ],
   "source": [
    "#verify languages w/ fewer than 5 occurances were dropped\n",
    "len(df.language.value_counts())"
   ]
  },
  {
   "cell_type": "code",
   "execution_count": 9,
   "metadata": {},
   "outputs": [
    {
     "data": {
      "text/plain": [
       "repo             0\n",
       "clean_content    0\n",
       "language         0\n",
       "dtype: int64"
      ]
     },
     "execution_count": 9,
     "metadata": {},
     "output_type": "execute_result"
    }
   ],
   "source": [
    "#check nulls\n",
    "df.isnull().sum()"
   ]
  },
  {
   "cell_type": "code",
   "execution_count": 10,
   "metadata": {},
   "outputs": [
    {
     "data": {
      "text/html": [
       "<div>\n",
       "<style scoped>\n",
       "    .dataframe tbody tr th:only-of-type {\n",
       "        vertical-align: middle;\n",
       "    }\n",
       "\n",
       "    .dataframe tbody tr th {\n",
       "        vertical-align: top;\n",
       "    }\n",
       "\n",
       "    .dataframe thead th {\n",
       "        text-align: right;\n",
       "    }\n",
       "</style>\n",
       "<table border=\"1\" class=\"dataframe\">\n",
       "  <thead>\n",
       "    <tr style=\"text-align: right;\">\n",
       "      <th></th>\n",
       "      <th>n</th>\n",
       "      <th>percent</th>\n",
       "    </tr>\n",
       "  </thead>\n",
       "  <tbody>\n",
       "    <tr>\n",
       "      <th>Python</th>\n",
       "      <td>41</td>\n",
       "      <td>0.33</td>\n",
       "    </tr>\n",
       "    <tr>\n",
       "      <th>JavaScript</th>\n",
       "      <td>28</td>\n",
       "      <td>0.22</td>\n",
       "    </tr>\n",
       "    <tr>\n",
       "      <th>PHP</th>\n",
       "      <td>15</td>\n",
       "      <td>0.12</td>\n",
       "    </tr>\n",
       "    <tr>\n",
       "      <th>HTML</th>\n",
       "      <td>14</td>\n",
       "      <td>0.11</td>\n",
       "    </tr>\n",
       "    <tr>\n",
       "      <th>TypeScript</th>\n",
       "      <td>9</td>\n",
       "      <td>0.07</td>\n",
       "    </tr>\n",
       "    <tr>\n",
       "      <th>Java</th>\n",
       "      <td>7</td>\n",
       "      <td>0.06</td>\n",
       "    </tr>\n",
       "    <tr>\n",
       "      <th>Dart</th>\n",
       "      <td>7</td>\n",
       "      <td>0.06</td>\n",
       "    </tr>\n",
       "    <tr>\n",
       "      <th>CSS</th>\n",
       "      <td>5</td>\n",
       "      <td>0.04</td>\n",
       "    </tr>\n",
       "  </tbody>\n",
       "</table>\n",
       "</div>"
      ],
      "text/plain": [
       "             n  percent\n",
       "Python      41     0.33\n",
       "JavaScript  28     0.22\n",
       "PHP         15     0.12\n",
       "HTML        14     0.11\n",
       "TypeScript   9     0.07\n",
       "Java         7     0.06\n",
       "Dart         7     0.06\n",
       "CSS          5     0.04"
      ]
     },
     "execution_count": 10,
     "metadata": {},
     "output_type": "execute_result"
    }
   ],
   "source": [
    "#check how many words appear for each language\n",
    "languages = pd.concat([df.language.value_counts(),\n",
    "                    round(df.language.value_counts(normalize=True), 2)], axis=1)\n",
    "\n",
    "languages.columns = ['n', 'percent']\n",
    "\n",
    "languages"
   ]
  },
  {
   "cell_type": "code",
   "execution_count": 20,
   "metadata": {},
   "outputs": [
    {
     "ename": "AttributeError",
     "evalue": "'DataFrame' object has no attribute 'clean_conent'",
     "output_type": "error",
     "traceback": [
      "\u001b[0;31m---------------------------------------------------------------------------\u001b[0m",
      "\u001b[0;31mAttributeError\u001b[0m                            Traceback (most recent call last)",
      "\u001b[0;32m<ipython-input-20-9973d2ebfe7b>\u001b[0m in \u001b[0;36m<module>\u001b[0;34m\u001b[0m\n\u001b[1;32m      1\u001b[0m \u001b[0;31m# remove words between 1 and 20\u001b[0m\u001b[0;34m\u001b[0m\u001b[0;34m\u001b[0m\u001b[0;34m\u001b[0m\u001b[0m\n\u001b[1;32m      2\u001b[0m \u001b[0mdf\u001b[0m\u001b[0;34m.\u001b[0m\u001b[0mclean_content\u001b[0m \u001b[0;34m=\u001b[0m \u001b[0mre\u001b[0m\u001b[0;34m.\u001b[0m\u001b[0mcompile\u001b[0m\u001b[0;34m(\u001b[0m\u001b[0;34mr'\\W*\\b\\w{1,20}\\b'\u001b[0m\u001b[0;34m)\u001b[0m\u001b[0;34m\u001b[0m\u001b[0;34m\u001b[0m\u001b[0m\n\u001b[0;32m----> 3\u001b[0;31m \u001b[0mprint\u001b[0m\u001b[0;34m(\u001b[0m\u001b[0mdf\u001b[0m\u001b[0;34m.\u001b[0m\u001b[0mclean_content\u001b[0m\u001b[0;34m.\u001b[0m\u001b[0msub\u001b[0m\u001b[0;34m(\u001b[0m\u001b[0;34m''\u001b[0m\u001b[0;34m,\u001b[0m \u001b[0mdf\u001b[0m\u001b[0;34m.\u001b[0m\u001b[0mclean_conent\u001b[0m\u001b[0;34m)\u001b[0m\u001b[0;34m)\u001b[0m\u001b[0;34m\u001b[0m\u001b[0;34m\u001b[0m\u001b[0m\n\u001b[0m",
      "\u001b[0;32m/usr/local/anaconda3/lib/python3.8/site-packages/pandas/core/generic.py\u001b[0m in \u001b[0;36m__getattr__\u001b[0;34m(self, name)\u001b[0m\n\u001b[1;32m   5137\u001b[0m             \u001b[0;32mif\u001b[0m \u001b[0mself\u001b[0m\u001b[0;34m.\u001b[0m\u001b[0m_info_axis\u001b[0m\u001b[0;34m.\u001b[0m\u001b[0m_can_hold_identifiers_and_holds_name\u001b[0m\u001b[0;34m(\u001b[0m\u001b[0mname\u001b[0m\u001b[0;34m)\u001b[0m\u001b[0;34m:\u001b[0m\u001b[0;34m\u001b[0m\u001b[0;34m\u001b[0m\u001b[0m\n\u001b[1;32m   5138\u001b[0m                 \u001b[0;32mreturn\u001b[0m \u001b[0mself\u001b[0m\u001b[0;34m[\u001b[0m\u001b[0mname\u001b[0m\u001b[0;34m]\u001b[0m\u001b[0;34m\u001b[0m\u001b[0;34m\u001b[0m\u001b[0m\n\u001b[0;32m-> 5139\u001b[0;31m             \u001b[0;32mreturn\u001b[0m \u001b[0mobject\u001b[0m\u001b[0;34m.\u001b[0m\u001b[0m__getattribute__\u001b[0m\u001b[0;34m(\u001b[0m\u001b[0mself\u001b[0m\u001b[0;34m,\u001b[0m \u001b[0mname\u001b[0m\u001b[0;34m)\u001b[0m\u001b[0;34m\u001b[0m\u001b[0;34m\u001b[0m\u001b[0m\n\u001b[0m\u001b[1;32m   5140\u001b[0m \u001b[0;34m\u001b[0m\u001b[0m\n\u001b[1;32m   5141\u001b[0m     \u001b[0;32mdef\u001b[0m \u001b[0m__setattr__\u001b[0m\u001b[0;34m(\u001b[0m\u001b[0mself\u001b[0m\u001b[0;34m,\u001b[0m \u001b[0mname\u001b[0m\u001b[0;34m:\u001b[0m \u001b[0mstr\u001b[0m\u001b[0;34m,\u001b[0m \u001b[0mvalue\u001b[0m\u001b[0;34m)\u001b[0m \u001b[0;34m->\u001b[0m \u001b[0;32mNone\u001b[0m\u001b[0;34m:\u001b[0m\u001b[0;34m\u001b[0m\u001b[0;34m\u001b[0m\u001b[0m\n",
      "\u001b[0;31mAttributeError\u001b[0m: 'DataFrame' object has no attribute 'clean_conent'"
     ]
    }
   ],
   "source": [
    "# remove words between 1 and 20\n",
    "df.clean_content = re.compile(r'\\W*\\b\\w{1,20}\\b')\n",
    "print(df.clean_content.sub('', df.clean_conent))"
   ]
  },
  {
   "cell_type": "markdown",
   "metadata": {},
   "source": [
    "***\n",
    "# Data Exploration\n",
    "\n",
    "### Answer questions from planning stage\n",
    "- What are the most frequently occuring words in READMEs?\n",
    "- Are there any words that uniquely identify a programming language?\n",
    "- What does the distribution of IDFs look like for the most common words?\n",
    "- Does the length of the README vary by programming language?\n",
    "- Do different programming languages use a different number of unique words?\n",
    "- What are the top word combinations (bigrams and trigrams)?"
   ]
  },
  {
   "cell_type": "code",
   "execution_count": 17,
   "metadata": {},
   "outputs": [],
   "source": [
    "#breaking up data into each language\n",
    "\n",
    "#words that appear in Python\n",
    "python_words = ' '.join(df[df.language == 'Python'].clean_content)\n",
    "\n",
    "#words that appear in JavaScript\n",
    "javascript_words = ' '.join(df[df.language == 'JavaScript'].clean_content)\n",
    "\n",
    "#words that appear in PHP\n",
    "php_words = ' '.join(df[df.language == 'PHP'].clean_content)\n",
    "\n",
    "#words that appear in HTML\n",
    "html_words = ' '.join(df[df.language == 'HTML'].clean_content)\n",
    "\n",
    "#words that appear in TypeScript\n",
    "typescript_words = ' '.join(df[df.language == 'TypeScript'].clean_content)\n",
    "\n",
    "#words that appear in Dart\n",
    "dart_words = ' '.join(df[df.language == 'Dart'].clean_content)\n",
    "\n",
    "#words that appear in Java\n",
    "java_words = ' '.join(df[df.language == 'Java'].clean_content)\n",
    "\n",
    "#words that appear in CSS\n",
    "css_words = ' '.join(df[df.language == 'CSS'].clean_content)\n",
    "\n",
    "#all of the words \n",
    "all_lang_words = ' '.join(df.clean_content)"
   ]
  },
  {
   "cell_type": "code",
   "execution_count": 19,
   "metadata": {},
   "outputs": [
    {
     "name": "stdout",
     "output_type": "stream",
     "text": [
      "Python:\n",
      "'                                               511\n",
      "&#9;                                            269\n",
      "file                                            222\n",
      "social                                          221\n",
      "data                                            167\n",
      "                                               ... \n",
      "tocsvlisttweets                                   1\n",
      "httpsgithubcomloreysocialmediaprofilesregexs      1\n",
      "datastoreemulatorport8089                         1\n",
      "reliance                                          1\n",
      "near                                              1\n",
      "Length: 5118, dtype: int64\n",
      "--------------------------\n",
      "JavaScript:\n",
      "'                                                  511\n",
      "social                                              86\n",
      "&#9;                                                78\n",
      "run                                                 78\n",
      "use                                                 76\n",
      "                                                  ... \n",
      "discussion                                           1\n",
      "webfontloaderhttpsgithubcomtypekitwebfontloader      1\n",
      "nickname                                             1\n",
      "geotagged                                            1\n",
      "overwritten                                          1\n",
      "Length: 2748, dtype: int64\n",
      "--------------------------\n",
      "PHP:\n",
      "&#9;          98\n",
      "user          55\n",
      "'             54\n",
      "social        51\n",
      "twitter       39\n",
      "              ..\n",
      "allowing       1\n",
      "usertouser     1\n",
      "staticly       1\n",
      "related        1\n",
      "monitoring     1\n",
      "Length: 1410, dtype: int64\n",
      "--------------------------\n",
      "HTML:\n",
      "'                                                                                   168\n",
      "button                                                                               98\n",
      "share                                                                                79\n",
      "icon                                                                                 62\n",
      "medium                                                                               51\n",
      "                                                                                   ... \n",
      "april                                                                                 1\n",
      "srchttpscdnjscloudflarecomajaxlibswebcomponentsjs077webcomponentsliteminjsscript      1\n",
      "allinonetool                                                                          1\n",
      "enable                                                                                1\n",
      "h5                                                                                    1\n",
      "Length: 1786, dtype: int64\n",
      "--------------------------\n",
      "TypeScript:\n",
      "string                                                      81\n",
      "'                                                           58\n",
      "title                                                       57\n",
      "shared                                                      35\n",
      "image                                                       28\n",
      "                                                            ..\n",
      "onhttpsaddonsmozillaorgenusfirefoxaddonnukereddithistory     1\n",
      "beautiful                                                    1\n",
      "onur                                                         1\n",
      "20px                                                         1\n",
      "mandatory                                                    1\n",
      "Length: 1190, dtype: int64\n",
      "--------------------------\n",
      "Dart:\n",
      "flutter                                                       27\n",
      "firebase                                                      15\n",
      "app                                                           14\n",
      "social                                                        13\n",
      "width400                                                      12\n",
      "                                                              ..\n",
      "guidelinescontributingmd                                       1\n",
      "srchttpsimgshieldsiogithubstarsrunbhumirunbhumistylesocial     1\n",
      "authdart                                                       1\n",
      "flutterhttpsflutterdevdocsgetstartedinstall                    1\n",
      "picture                                                        1\n",
      "Length: 381, dtype: int64\n",
      "--------------------------\n",
      "Java:\n",
      "&#9;              64\n",
      "tweet             59\n",
      "'                 47\n",
      "social            40\n",
      "text              39\n",
      "                  ..\n",
      "box                1\n",
      "aienginetest       1\n",
      "tweeted            1\n",
      "vtweetparserso     1\n",
      "mandatory          1\n",
      "Length: 1087, dtype: int64\n",
      "--------------------------\n",
      "CSS:\n",
      "apphera               22\n",
      "'                     22\n",
      "license               21\n",
      "button                19\n",
      "social                19\n",
      "                      ..\n",
      "data                   1\n",
      "flickr                 1\n",
      "goodreads              1\n",
      "completely             1\n",
      "classiconinstagram     1\n",
      "Length: 563, dtype: int64\n",
      "--------------------------\n",
      "All Languages:\n",
      "'                                                                   1379\n",
      "&#9;                                                                 527\n",
      "social                                                               493\n",
      "file                                                                 373\n",
      "medium                                                               353\n",
      "                                                                    ... \n",
      "eventadorhttpsgithubcomdata4democracyassembletreemastereventador       1\n",
      "httpsgithubcomwojciechsocialpath                                       1\n",
      "speechballoon                                                          1\n",
      "hrefhttpsdiscordggtxgpyk8pzfmumble                                     1\n",
      "yourtwitterpassword                                                    1\n",
      "Length: 9350, dtype: int64\n",
      "--------------------------\n"
     ]
    }
   ],
   "source": [
    "#check how often each of the words occurs\n",
    "python_freq = pd.Series(python_words.split()).value_counts()\n",
    "javascript_freq = pd.Series(javascript_words.split()).value_counts()\n",
    "php_freq = pd.Series(php_words.split()).value_counts()\n",
    "html_freq = pd.Series(html_words.split()).value_counts()\n",
    "typescript_freq = pd.Series(typescript_words.split()).value_counts()\n",
    "dart_freq = pd.Series(dart_words.split()).value_counts()\n",
    "java_freq = pd.Series(java_words.split()).value_counts()\n",
    "css_freq = pd.Series(css_words.split()).value_counts()\n",
    "all_lang_freq = pd.Series(all_lang_words.split()).value_counts()\n",
    "\n",
    "print('Python:')\n",
    "print(python_freq)\n",
    "print('--------------------------')\n",
    "print('JavaScript:')\n",
    "print(javascript_freq)\n",
    "print('--------------------------')\n",
    "print('PHP:')\n",
    "print(php_freq)\n",
    "print('--------------------------')\n",
    "print('HTML:')\n",
    "print(html_freq)\n",
    "print('--------------------------')\n",
    "print('TypeScript:')\n",
    "print(typescript_freq)\n",
    "print('--------------------------')\n",
    "print('Dart:')\n",
    "print(dart_freq)\n",
    "print('--------------------------')\n",
    "print('Java:')\n",
    "print(java_freq)\n",
    "print('--------------------------')\n",
    "print('CSS:')\n",
    "print(css_freq)\n",
    "print('--------------------------')\n",
    "print('All Languages:')\n",
    "print(all_lang_freq)\n",
    "print('--------------------------')"
   ]
  },
  {
   "cell_type": "code",
   "execution_count": null,
   "metadata": {},
   "outputs": [],
   "source": []
  },
  {
   "cell_type": "code",
   "execution_count": null,
   "metadata": {},
   "outputs": [],
   "source": []
  },
  {
   "cell_type": "code",
   "execution_count": null,
   "metadata": {},
   "outputs": [],
   "source": []
  },
  {
   "cell_type": "code",
   "execution_count": null,
   "metadata": {},
   "outputs": [],
   "source": []
  },
  {
   "cell_type": "markdown",
   "metadata": {},
   "source": [
    "***\n",
    "# Data Modeling and Evaluation"
   ]
  },
  {
   "cell_type": "code",
   "execution_count": null,
   "metadata": {},
   "outputs": [],
   "source": []
  },
  {
   "cell_type": "code",
   "execution_count": null,
   "metadata": {},
   "outputs": [],
   "source": []
  },
  {
   "cell_type": "code",
   "execution_count": null,
   "metadata": {},
   "outputs": [],
   "source": []
  },
  {
   "cell_type": "code",
   "execution_count": null,
   "metadata": {},
   "outputs": [],
   "source": []
  },
  {
   "cell_type": "markdown",
   "metadata": {},
   "source": [
    "***\n",
    "# Conclusion\n",
    "Report containing summarization of findings can be found [here](link to google slides)."
   ]
  },
  {
   "cell_type": "code",
   "execution_count": null,
   "metadata": {},
   "outputs": [],
   "source": []
  }
 ],
 "metadata": {
  "kernelspec": {
   "display_name": "Python 3",
   "language": "python",
   "name": "python3"
  },
  "language_info": {
   "codemirror_mode": {
    "name": "ipython",
    "version": 3
   },
   "file_extension": ".py",
   "mimetype": "text/x-python",
   "name": "python",
   "nbconvert_exporter": "python",
   "pygments_lexer": "ipython3",
   "version": "3.8.5"
  }
 },
 "nbformat": 4,
 "nbformat_minor": 4
}
