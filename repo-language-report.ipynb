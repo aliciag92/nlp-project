{
 "cells": [
  {
   "cell_type": "markdown",
   "metadata": {},
   "source": [
    "# Project Description and Goals\n",
    "\n",
    "Natural Language Processing (NLP) uses programming & machine learning techniques to help understand and make use of large amounts of text data.\n",
    "\n",
    "\n",
    "For this project, I will be scraping data from GitHub repository README files in order to build a model that can predict what programming language a repository is, given the text of the README file.\n",
    "\n",
    "### Objectives for this project include:\n",
    "- Building a dataset based on a list of GitHub repositories to scrape, and writing the python code necessary to extract the text of the README file for each page, and the primary language of the repository.\n",
    "- Documenting process and analysis throughout the data science pipeline.\n",
    "- Constructing a classification model that can predict what programming language a repository is in, given the text of the README file.\n",
    "- Deliverables:\n",
    "    - A well-documented jupyter notebook that contains my analysis.\n",
    "    - One or two content slides suitable for a general audience that summarize findings with a well-labeled visualization included in slides.\n",
    "    \n",
    "### Pipeline Process:\n",
    "1. Acquire\n",
    "2. Prepare\n",
    "3. Explore\n",
    "4. Model/Evaluate\n",
    "5. Deliver\n",
    "\n",
    "### Initial hypotheses\n",
    "- What are the most frequently occuring words in READMEs?\n",
    "- Are there any words that uniquely identify a programming language?\n",
    "- What are the top word combinations (bigrams and trigrams)?"
   ]
  },
  {
   "cell_type": "markdown",
   "metadata": {},
   "source": [
    "*** \n",
    "### Project Imports"
   ]
  },
  {
   "cell_type": "markdown",
   "metadata": {},
   "source": [
    "***\n",
    "# Data Acquisition"
   ]
  },
  {
   "cell_type": "markdown",
   "metadata": {},
   "source": [
    "***\n",
    "# Data Preparation"
   ]
  },
  {
   "cell_type": "markdown",
   "metadata": {},
   "source": [
    "***\n",
    "# Data Exploration"
   ]
  },
  {
   "cell_type": "markdown",
   "metadata": {},
   "source": [
    "***\n",
    "# Data Modeling and Evaluation"
   ]
  },
  {
   "cell_type": "markdown",
   "metadata": {},
   "source": [
    "***\n",
    "# Conclusion\n",
    "Report containing summarization of findings can be found [here](link to google slides)."
   ]
  },
  {
   "cell_type": "code",
   "execution_count": null,
   "metadata": {},
   "outputs": [],
   "source": []
  }
 ],
 "metadata": {
  "kernelspec": {
   "display_name": "Python 3",
   "language": "python",
   "name": "python3"
  },
  "language_info": {
   "codemirror_mode": {
    "name": "ipython",
    "version": 3
   },
   "file_extension": ".py",
   "mimetype": "text/x-python",
   "name": "python",
   "nbconvert_exporter": "python",
   "pygments_lexer": "ipython3",
   "version": "3.8.5"
  }
 },
 "nbformat": 4,
 "nbformat_minor": 4
}
